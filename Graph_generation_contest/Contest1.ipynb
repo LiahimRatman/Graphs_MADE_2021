{
 "cells": [
  {
   "cell_type": "code",
   "execution_count": 1,
   "id": "framed-engine",
   "metadata": {},
   "outputs": [],
   "source": [
    "import matplotlib.pyplot as plt\n",
    "import numpy as np\n",
    "from zlib import adler32\n",
    "import requests\n",
    "import networkx as nx\n",
    "from scipy.stats import ks_2samp\n",
    "import random\n",
    "from sklearn.preprocessing import minmax_scale\n",
    "import itertools"
   ]
  },
  {
   "cell_type": "code",
   "execution_count": 2,
   "id": "billion-balance",
   "metadata": {},
   "outputs": [],
   "source": [
    "import json\n",
    "with open('stats.txt', 'r') as f:\n",
    "    d = json.load(f)"
   ]
  },
  {
   "cell_type": "code",
   "execution_count": 3,
   "id": "italian-consideration",
   "metadata": {},
   "outputs": [
    {
     "data": {
      "text/plain": [
       "{'number_nodes': 1882,\n",
       " 'radius': [15, 2],\n",
       " 'diameter': [28, 4],\n",
       " 'average_clustering': [0.005066798238955518, 0.001],\n",
       " 'average_path_length': [11.748410823170731, 2],\n",
       " 'number_cc': [168, 32],\n",
       " 'degree_cdf': [[0,\n",
       "   1,\n",
       "   2,\n",
       "   3,\n",
       "   4,\n",
       "   5,\n",
       "   6,\n",
       "   7,\n",
       "   8,\n",
       "   9,\n",
       "   10,\n",
       "   11,\n",
       "   12,\n",
       "   13,\n",
       "   14,\n",
       "   15,\n",
       "   16,\n",
       "   17,\n",
       "   19,\n",
       "   21,\n",
       "   24,\n",
       "   46],\n",
       "  [0.0,\n",
       "   0.6902231668437833,\n",
       "   0.8517534537725824,\n",
       "   0.9086078639744952,\n",
       "   0.9378320935175345,\n",
       "   0.9516471838469713,\n",
       "   0.9654622741764081,\n",
       "   0.9723698193411264,\n",
       "   0.9776833156216791,\n",
       "   0.9808714133900106,\n",
       "   0.9845908607863975,\n",
       "   0.9888416578108395,\n",
       "   0.9893730074388948,\n",
       "   0.9925611052072264,\n",
       "   0.9936238044633369,\n",
       "   0.9952178533475027,\n",
       "   0.9957492029755579,\n",
       "   0.9968119022316685,\n",
       "   0.997874601487779,\n",
       "   0.9989373007438895,\n",
       "   0.9994686503719448,\n",
       "   1.0]]}"
      ]
     },
     "execution_count": 3,
     "metadata": {},
     "output_type": "execute_result"
    }
   ],
   "source": [
    "d"
   ]
  },
  {
   "cell_type": "code",
   "execution_count": 4,
   "id": "desperate-semiconductor",
   "metadata": {},
   "outputs": [
    {
     "data": {
      "image/png": "[encoded data removed]",
      "text/plain": [
       "<Figure size 432x288 with 1 Axes>"
      ]
     },
     "metadata": {
      "needs_background": "light"
     },
     "output_type": "display_data"
    }
   ],
   "source": [
    "q_seq, p_seq = d['degree_cdf']\n",
    "plt.plot(\n",
    "    np.append(np.repeat(q_seq, 2)[1:], q_seq[-1]), \n",
    "    np.repeat(p_seq, 2)\n",
    ")\n",
    "plt.show()"
   ]
  },
  {
   "cell_type": "code",
   "execution_count": 5,
   "id": "automated-daniel",
   "metadata": {},
   "outputs": [
    {
     "data": {
      "text/plain": [
       "{1: 1299,\n",
       " 2: 304,\n",
       " 3: 107,\n",
       " 4: 55,\n",
       " 5: 26,\n",
       " 6: 26,\n",
       " 7: 13,\n",
       " 8: 10,\n",
       " 9: 6,\n",
       " 10: 7,\n",
       " 11: 8,\n",
       " 12: 1,\n",
       " 13: 6,\n",
       " 14: 2,\n",
       " 15: 3,\n",
       " 16: 1,\n",
       " 17: 2,\n",
       " 19: 2,\n",
       " 21: 2,\n",
       " 24: 1,\n",
       " 46: 1}"
      ]
     },
     "execution_count": 5,
     "metadata": {},
     "output_type": "execute_result"
    }
   ],
   "source": [
    "density = [round(1882 * (p_seq[i+1] - p_seq[i])) for i in range(len(p_seq) - 1)]\n",
    "degrees_input = {}\n",
    "for i in range(len(density)):\n",
    "    degrees_input[q_seq[i + 1]] = density[i]\n",
    "degrees_input"
   ]
  },
  {
   "cell_type": "code",
   "execution_count": 8,
   "id": "ordered-government",
   "metadata": {},
   "outputs": [
    {
     "name": "stdout",
     "output_type": "stream",
     "text": [
      "Number of edges: 941\n"
     ]
    }
   ],
   "source": [
    "print(\"Number of edges:\", int(sum(degrees_input.values()) / 2))"
   ]
  },
  {
   "cell_type": "code",
   "execution_count": 9,
   "id": "abandoned-stanley",
   "metadata": {},
   "outputs": [
    {
     "name": "stdout",
     "output_type": "stream",
     "text": [
      "Number of nodes: 1882\n"
     ]
    }
   ],
   "source": [
    "print(\"Number of nodes:\", d['number_nodes'])"
   ]
  },
  {
   "cell_type": "code",
   "execution_count": 34,
   "id": "muslim-picnic",
   "metadata": {},
   "outputs": [
    {
     "name": "stdout",
     "output_type": "stream",
     "text": [
      "Average number of angles for one triangle: 592.0898876404495\n"
     ]
    }
   ],
   "source": [
    "print(\"Average number of angles for one triangle:\", 3 / d['average_clustering'][0])"
   ]
  },
  {
   "cell_type": "markdown",
   "id": "brief-flight",
   "metadata": {},
   "source": [
    "***Load graph***"
   ]
  },
  {
   "cell_type": "code",
   "execution_count": 11,
   "id": "intimate-columbia",
   "metadata": {},
   "outputs": [],
   "source": [
    "G = nx.read_adjlist(\"output_great6.txt\")"
   ]
  },
  {
   "cell_type": "code",
   "execution_count": 2,
   "id": "juvenile-disorder",
   "metadata": {},
   "outputs": [],
   "source": [
    "# degree_sequence_1 = []\n",
    "# for node in range(d['number_nodes']):\n",
    "#     r = random.random()\n",
    "#     value = cdf[1][0]\n",
    "#     for i, j in enumerate(cdf[1]):\n",
    "#         if j < r:\n",
    "#             value = cdf[0][i + 1]\n",
    "#     degree_sequence_1.append(value)"
   ]
  },
  {
   "cell_type": "code",
   "execution_count": 3,
   "id": "tropical-cleaning",
   "metadata": {},
   "outputs": [],
   "source": [
    "# G1 = nx.Graph(nx.configuration_model(degree_sequence_1, create_using=nx.Graph))"
   ]
  },
  {
   "cell_type": "code",
   "execution_count": 4,
   "id": "hairy-spotlight",
   "metadata": {},
   "outputs": [],
   "source": [
    "# m = sum(degree_sequence_1) / d['number_nodes']"
   ]
  },
  {
   "cell_type": "code",
   "execution_count": 12,
   "id": "neutral-murder",
   "metadata": {},
   "outputs": [],
   "source": [
    "G_giant = G.subgraph(max(nx.connected_components(G), key=len)).copy()"
   ]
  },
  {
   "cell_type": "markdown",
   "id": "impossible-canal",
   "metadata": {},
   "source": [
    "***BA***"
   ]
  },
  {
   "cell_type": "code",
   "execution_count": 13,
   "id": "spiritual-brain",
   "metadata": {},
   "outputs": [],
   "source": [
    "def attach(node, G, m):\n",
    "    bst = []\n",
    "    for u, v in G.edges:                                      \n",
    "        bst.append(u)\n",
    "        bst.append(v)\n",
    "    added_edges = 0\n",
    "    while added_edges < m:\n",
    "        v = random.choice(bst)\n",
    "        if not G.has_edge(node, v):\n",
    "            G.add_edge(node, v)\n",
    "            added_edges += 1\n",
    "\n",
    "def barabasi_albert_graph(n, m, random_seed=1):\n",
    "    G = nx.star_graph(m)\n",
    "    for i in range(1, n - m):\n",
    "        attach(m + i, G, m)\n",
    "    return G"
   ]
  },
  {
   "cell_type": "code",
   "execution_count": 76,
   "id": "asian-pound",
   "metadata": {},
   "outputs": [],
   "source": [
    "G_ba = barabasi_albert_graph(d['number_nodes'], 2)"
   ]
  },
  {
   "cell_type": "markdown",
   "id": "embedded-russia",
   "metadata": {},
   "source": [
    "***SW***"
   ]
  },
  {
   "cell_type": "code",
   "execution_count": 17,
   "id": "fleet-polls",
   "metadata": {},
   "outputs": [],
   "source": [
    "def adjacent_edges(nodes, halfk):\n",
    "    n = len(nodes)\n",
    "    for i, u in enumerate(nodes):\n",
    "        for j in range(i+1, i+halfk+1):\n",
    "            v = nodes[j % n]\n",
    "            yield u, v\n",
    "\n",
    "\n",
    "def ring_lattice(n, k):\n",
    "    G = nx.Graph()\n",
    "    nodes = range(n)\n",
    "    G.add_nodes_from(nodes)\n",
    "    G.add_edges_from(adjacent_edges(nodes, k//2))\n",
    "    return G\n",
    "\n",
    "def watts_strogatz_graph(n, k, p):\n",
    "    G = ring_lattice(n, k)\n",
    "    for node in G.nodes:\n",
    "        rewire(G, node, k, p)\n",
    "    return G\n",
    "\n",
    "def rewire(G, node, k, p):\n",
    "    nodes = np.array(G.nodes)\n",
    "    neighbour_nodes = list(G[node])[k//2:]\n",
    "    for neighbour_node in neighbour_nodes:\n",
    "        if random.random() >= p:\n",
    "            continue\n",
    "            \n",
    "        G.remove_edge(node, neighbour_node)\n",
    "        while True:\n",
    "            new_node = random.choice(nodes)\n",
    "            if not G.has_edge(node, new_node) and new_node != neighbour_node:\n",
    "                G.add_edge(node, new_node)\n",
    "                break"
   ]
  },
  {
   "cell_type": "code",
   "execution_count": 9,
   "id": "respective-defensive",
   "metadata": {},
   "outputs": [],
   "source": [
    "# G_sw = watts_strogatz_graph(n, 3, 0.95)\n",
    "# G_giant_sw = G_sw.subgraph(max(nx.connected_components(G_sw), key=len)).copy()"
   ]
  },
  {
   "cell_type": "code",
   "execution_count": 11,
   "id": "rural-karen",
   "metadata": {},
   "outputs": [],
   "source": [
    "# len(list(nx.connected_components(G_sw))), nx.average_clustering(G_giant_sw), nx.average_shortest_path_length(G_giant_sw), nx.radius(G_giant_sw), nx.diameter(G_giant_sw)"
   ]
  },
  {
   "cell_type": "code",
   "execution_count": 12,
   "id": "engaging-robin",
   "metadata": {},
   "outputs": [],
   "source": [
    "# len(list(G_sw.edges))"
   ]
  },
  {
   "cell_type": "markdown",
   "id": "crude-coordination",
   "metadata": {},
   "source": [
    "***Graphs combination***"
   ]
  },
  {
   "cell_type": "markdown",
   "id": "comic-mileage",
   "metadata": {},
   "source": [
    "***Finding the giant component iteratevely by Wattz-Strogatz graph***"
   ]
  },
  {
   "cell_type": "code",
   "execution_count": 442,
   "id": "announced-threshold",
   "metadata": {},
   "outputs": [
    {
     "name": "stdout",
     "output_type": "stream",
     "text": [
      "250 2 0.6\n",
      "250 2 0.6 21 42 206 0.002933333333333333 12.910774331044282\n",
      "! 250 2 0.6 15 28 197 0.009333333333333332 11.744794364446285\n"
     ]
    }
   ],
   "source": [
    "# grid = {\n",
    "#     'n': range(250, 400, 10),\n",
    "#     'm': range(2, 5),\n",
    "#     'p': range(5, 95, 5)\n",
    "# }\n",
    "\n",
    "grid = {\n",
    "    'n': [250],\n",
    "    'm': [2],\n",
    "    'p': [0.6]\n",
    "}\n",
    "\n",
    "\n",
    "def find_params():\n",
    "    for n in grid['n']:\n",
    "        for m in grid['m']:\n",
    "            for p in grid['p']:\n",
    "                G1 = watts_strogatz_graph(n, m, p)\n",
    "                G_giant_1 = G1.subgraph(max(nx.connected_components(G1), key=len)).copy()\n",
    "                for i in range(100000):\n",
    "                    G1 = watts_strogatz_graph(n, m, p)\n",
    "                    G_giant_1 = G1.subgraph(max(nx.connected_components(G1), key=len)).copy()\n",
    "                    if nx.radius(G_giant_1) == 15 and nx.diameter(G_giant_1) == 28 and (11.6 <= nx.average_shortest_path_length(G_giant_1) <= 11.8):\n",
    "                        return G1, n, m, p, nx.radius(G_giant_1), nx.diameter(G_giant_1), len(G_giant_1.nodes), nx.average_clustering(G1), nx.average_shortest_path_length(G_giant_1)\n",
    "\n",
    "ress = find_params()"
   ]
  },
  {
   "cell_type": "code",
   "execution_count": 951,
   "id": "powered-private",
   "metadata": {},
   "outputs": [],
   "source": [
    "G1 = ress[0].copy()"
   ]
  },
  {
   "cell_type": "code",
   "execution_count": 952,
   "id": "suspended-beads",
   "metadata": {},
   "outputs": [
    {
     "name": "stdout",
     "output_type": "stream",
     "text": [
      "15 28 197 0.009333333333333332 11.744794364446285\n"
     ]
    }
   ],
   "source": [
    "G_giant_1 = G1.subgraph(max(nx.connected_components(G1), key=len)).copy()\n",
    "print(nx.radius(G_giant_1), nx.diameter(G_giant_1), len(G_giant_1.nodes), nx.average_clustering(G1), nx.average_shortest_path_length(G_giant_1))             "
   ]
  },
  {
   "cell_type": "code",
   "execution_count": 445,
   "id": "revised-basketball",
   "metadata": {},
   "outputs": [
    {
     "data": {
      "text/plain": [
       "13"
      ]
     },
     "execution_count": 445,
     "metadata": {},
     "output_type": "execute_result"
    }
   ],
   "source": [
    "len(list(nx.connected_components(G1)))"
   ]
  },
  {
   "cell_type": "code",
   "execution_count": 35,
   "id": "smoking-child",
   "metadata": {},
   "outputs": [],
   "source": [
    "# nx.average_clustering(G_giant_1)"
   ]
  },
  {
   "cell_type": "code",
   "execution_count": 36,
   "id": "separate-marks",
   "metadata": {},
   "outputs": [],
   "source": [
    "# len(list(nx.connected_components(G1))), nx.average_clustering(G_giant_1), nx.average_shortest_path_length(G_giant_1), nx.radius(G_giant_1), nx.diameter(G_giant_1)"
   ]
  },
  {
   "cell_type": "code",
   "execution_count": 975,
   "id": "veterinary-yahoo",
   "metadata": {},
   "outputs": [],
   "source": [
    "degree_big_component = []\n",
    "for item in G1.degree:\n",
    "    degree_big_component.append(item[1])\n",
    "from collections import Counter\n",
    "degrees_dict_giant = dict(Counter(degree_big_component))\n",
    "\n",
    "degrees_razn = {}\n",
    "for key, value in degrees_input.items():\n",
    "    degrees_razn[key] = value - degrees_dict_giant.get(key, 0)"
   ]
  },
  {
   "cell_type": "code",
   "execution_count": 1181,
   "id": "genuine-mouse",
   "metadata": {},
   "outputs": [
    {
     "name": "stdout",
     "output_type": "stream",
     "text": [
      "25\n"
     ]
    }
   ],
   "source": [
    "Gr_added = nx.relabel_nodes(G1, {i: 100000 + i for i in range(197)})\n",
    "tt = 0\n",
    "tt2 = 0\n",
    "number = 1000\n",
    "for key, value in degrees_razn.items():\n",
    "    if key > 1:\n",
    "        if key == 2:\n",
    "            gr = nx.relabel_nodes(ring_lattice(135, 2), {i: number + i for i in range(135)})\n",
    "            number += 135\n",
    "            Gr_added = nx.compose(Gr_added, gr)\n",
    "            subg = Gr_added.subgraph(max(nx.connected_components(Gr_added), key=len)).copy()\n",
    "            for _ in range(7):\n",
    "                gr = nx.relabel_nodes(nx.path_graph(3), {i: number + i for i in range(3)})\n",
    "                number += 3\n",
    "                Gr_added = nx.compose(Gr_added, gr)\n",
    "            for _ in range(0):\n",
    "                gr = nx.relabel_nodes(nx.path_graph(2), {i: number + i for i in range(2)})\n",
    "                number += 2\n",
    "                Gr_added = nx.compose(Gr_added, gr)\n",
    "        elif key == 3:\n",
    "            gr = nx.relabel_nodes(ring_lattice(55, 2), {i: number + i for i in range(55)})\n",
    "            number += 55\n",
    "            nds = list(gr.nodes)\n",
    "            for node in nds:                    \n",
    "                gr.add_node(number)\n",
    "                gr.add_edge(node, number)\n",
    "                number += 1\n",
    "            for node in nds:\n",
    "                if tt2 < 6:            \n",
    "                    gr.add_node(number + 1)\n",
    "                    gr.add_node(number + 2)\n",
    "                    gr.add_edge(number, number + 1)\n",
    "                    gr.add_edge(number, number + 2)\n",
    "                    number += 2\n",
    "                    tt2 += 1\n",
    "            Gr_added = nx.compose(Gr_added, gr)\n",
    "        elif key == 5:\n",
    "            print(value)\n",
    "            for _ in range(3):\n",
    "                gr = nx.relabel_nodes(nx.star_graph(key), {i: number + i for i in range(key + 1)})\n",
    "                number += key + 1\n",
    "                Gr_added = nx.compose(Gr_added, gr)\n",
    "        elif key != 4:\n",
    "            for _ in range(value):\n",
    "                gr = nx.relabel_nodes(nx.star_graph(key), {i: number + i for i in range(key + 1)})\n",
    "                number += (key + 1)\n",
    "                Gr_added = nx.compose(Gr_added, gr)\n",
    "        else:\n",
    "            for _ in range(42):\n",
    "                gr = nx.relabel_nodes(nx.star_graph(key), {i: number + i for i in range(key + 1)})\n",
    "                number += (key + 1)\n",
    "                Gr_added = nx.compose(Gr_added, gr)\n",
    "            gr = nx.relabel_nodes(ring_lattice(12, 2), {i: number + i for i in range(12)})\n",
    "            number += 12\n",
    "            nds = list(gr.nodes)\n",
    "            for node in nds:\n",
    "                gr.add_edge(node, (node + 6) % 12)\n",
    "            for node in nds:\n",
    "                gr.add_nodes_from(list(range(number, number + 2)))\n",
    "                gr.add_edge(node, number)\n",
    "                gr.add_edge(node, number + 1)\n",
    "                if tt < 2:\n",
    "                    gr.add_edge(number, number + 1)\n",
    "                    tt += 1\n",
    "                number += 2\n",
    "            Gr_added = nx.compose(Gr_added, gr)\n",
    "gr = nx.relabel_nodes(nx.cycle_graph(3), {i: number + i for i in range(3)})\n",
    "number += 3\n",
    "Gr_added = nx.compose(Gr_added, gr)\n",
    "\n",
    "\n",
    "\n",
    "gr = nx.relabel_nodes(nx.path_graph(14), {i: number + i for i in range(14)})\n",
    "number += 14\n",
    "kk = 0\n",
    "nodess = list(gr.nodes)\n",
    "for kk, node in enumerate(nodess):\n",
    "    if kk < 10:\n",
    "        gr.add_nodes_from(list(range(number, number + 3)))\n",
    "        gr.add_edge(node, number)\n",
    "        gr.add_edge(node, number + 1)\n",
    "        gr.add_edge(node, number + 2)\n",
    "        number += 3\n",
    "    elif kk < 12:\n",
    "        gr.add_nodes_from(list(range(number, number + 2)))\n",
    "        gr.add_edge(node, number)\n",
    "        gr.add_edge(node, number + 1)\n",
    "        number += 2\n",
    "        if k == 10: \n",
    "            gr.add_edge(number, number + 1)\n",
    "    elif kk < 15:\n",
    "        gr.add_nodes_from(list(range(number, number + 1)))\n",
    "        gr.add_edge(node, number)\n",
    "        number += 1\n",
    "Gr_added = nx.compose(Gr_added, gr)\n",
    "\n",
    "\n",
    "for _ in range(6):\n",
    "    gr = nx.relabel_nodes(nx.cycle_graph(4), {i: number + i for i in range(4)})\n",
    "    number += 4\n",
    "    Gr_added = nx.compose(Gr_added, gr)\n",
    "\n",
    "gr = nx.relabel_nodes(nx.cycle_graph(8), {i: number + i for i in range(8)})\n",
    "number += 8\n",
    "Gr_added = nx.compose(Gr_added, gr)"
   ]
  },
  {
   "cell_type": "code",
   "execution_count": 1182,
   "id": "responsible-central",
   "metadata": {},
   "outputs": [
    {
     "data": {
      "text/plain": [
       "197"
      ]
     },
     "execution_count": 1182,
     "metadata": {},
     "output_type": "execute_result"
    }
   ],
   "source": [
    "subg = Gr_added.subgraph(max(nx.connected_components(Gr_added), key=len)).copy()\n",
    "len(subg.nodes)"
   ]
  },
  {
   "cell_type": "code",
   "execution_count": 1183,
   "id": "simplified-river",
   "metadata": {},
   "outputs": [
    {
     "data": {
      "text/plain": [
       "(168, 0.005065533120793482, 11.744794364446285, 15, 28)"
      ]
     },
     "execution_count": 1183,
     "metadata": {},
     "output_type": "execute_result"
    }
   ],
   "source": [
    "subg = Gr_added.subgraph(max(nx.connected_components(Gr_added), key=len)).copy()\n",
    "len(list(nx.connected_components(Gr_added))), nx.average_clustering(Gr_added), nx.average_shortest_path_length(G_giant_1), nx.radius(G_giant_1), nx.diameter(subg)"
   ]
  },
  {
   "cell_type": "code",
   "execution_count": 1184,
   "id": "super-moral",
   "metadata": {},
   "outputs": [
    {
     "data": {
      "text/plain": [
       "{1: 0,\n",
       " 2: 0,\n",
       " 3: 0,\n",
       " 4: 0,\n",
       " 5: 0,\n",
       " 6: 0,\n",
       " 7: 0,\n",
       " 8: 0,\n",
       " 9: 0,\n",
       " 10: 0,\n",
       " 11: 0,\n",
       " 12: 0,\n",
       " 13: 0,\n",
       " 14: 0,\n",
       " 15: 0,\n",
       " 16: 0,\n",
       " 17: 0,\n",
       " 19: 0,\n",
       " 21: 0,\n",
       " 24: 0,\n",
       " 46: 0}"
      ]
     },
     "execution_count": 1184,
     "metadata": {},
     "output_type": "execute_result"
    }
   ],
   "source": [
    "degrees_razn2 = {}\n",
    "for key, value in degrees_input.items():\n",
    "    degrees_razn2[key] = value - Counter(dict(Gr_added.degree).values()).get(key, 0)\n",
    "\n",
    "degrees_razn2"
   ]
  },
  {
   "cell_type": "code",
   "execution_count": 1185,
   "id": "statistical-interim",
   "metadata": {},
   "outputs": [
    {
     "data": {
      "text/plain": [
       "1882"
      ]
     },
     "execution_count": 1185,
     "metadata": {},
     "output_type": "execute_result"
    }
   ],
   "source": [
    "len(Gr_added.nodes)"
   ]
  },
  {
   "cell_type": "code",
   "execution_count": 1186,
   "id": "higher-price",
   "metadata": {},
   "outputs": [
    {
     "data": {
      "text/plain": [
       "0"
      ]
     },
     "execution_count": 1186,
     "metadata": {},
     "output_type": "execute_result"
    }
   ],
   "source": [
    "d['number_cc'][0] - len(list(nx.connected_components(Gr_added)))"
   ]
  },
  {
   "cell_type": "code",
   "execution_count": 903,
   "id": "false-course",
   "metadata": {},
   "outputs": [
    {
     "data": {
      "text/plain": [
       "(168, 168)"
      ]
     },
     "execution_count": 903,
     "metadata": {},
     "output_type": "execute_result"
    }
   ],
   "source": [
    "d['number_cc'][0], len(list(nx.connected_components(Gr_added)))"
   ]
  },
  {
   "cell_type": "code",
   "execution_count": 907,
   "id": "modular-reproduction",
   "metadata": {},
   "outputs": [
    {
     "data": {
      "text/plain": [
       "0.005065533120793482"
      ]
     },
     "execution_count": 907,
     "metadata": {},
     "output_type": "execute_result"
    }
   ],
   "source": [
    "# G_giant_2 = G_giant_1.copy()\n",
    "# for node in \n",
    "# G_giant_2.remove_edge(44, 45)\n",
    "nx.average_clustering(Gr_added)"
   ]
  },
  {
   "cell_type": "code",
   "execution_count": 856,
   "id": "peaceful-conspiracy",
   "metadata": {},
   "outputs": [
    {
     "name": "stdout",
     "output_type": "stream",
     "text": [
      "12 13 54\n",
      "12 13 55\n",
      "12 54 13\n",
      "12 55 13\n",
      "13 12 54\n",
      "13 12 55\n",
      "13 14 54\n",
      "13 54 12\n",
      "13 54 14\n",
      "13 55 12\n",
      "14 13 54\n",
      "14 15 54\n",
      "14 54 13\n",
      "14 54 15\n",
      "15 14 54\n",
      "15 54 14\n",
      "54 12 13\n",
      "54 13 12\n",
      "54 13 14\n",
      "54 14 13\n",
      "54 14 15\n",
      "54 15 14\n",
      "55 12 13\n",
      "55 13 12\n"
     ]
    }
   ],
   "source": [
    "A = nx.to_numpy_array(gr)\n",
    "for i in range(A.shape[0]):\n",
    "    for j in range(A.shape[0]):\n",
    "        if A[i, j] == 1:\n",
    "            for k in range(A.shape[0]):\n",
    "                if k != i and k != j and A[i, k] == 1 and A[j, k] == 1:\n",
    "                    print(i, j, k)"
   ]
  },
  {
   "cell_type": "code",
   "execution_count": 524,
   "id": "accepting-contemporary",
   "metadata": {},
   "outputs": [
    {
     "data": {
      "text/plain": [
       "[44, 45]"
      ]
     },
     "execution_count": 524,
     "metadata": {},
     "output_type": "execute_result"
    }
   ],
   "source": [
    "list(G_giant_2.nodes)[26: 28]"
   ]
  },
  {
   "cell_type": "code",
   "execution_count": 300,
   "id": "emerging-vancouver",
   "metadata": {},
   "outputs": [
    {
     "data": {
      "text/plain": [
       "dict_values([1, 3, 5, 2, 1, 2, 4, 1, 2, 2, 2, 1, 2, 2, 1, 2, 1, 3, 2, 2, 2, 3, 2, 2, 1, 2, 3, 2, 2, 2, 4, 4, 2, 2, 2, 2, 2, 2, 3, 1, 2, 4, 1, 3, 2, 2, 2, 2, 1, 1, 3, 1, 5, 2, 2, 1, 2, 3, 4, 2, 2, 2, 2, 4, 2, 3, 2, 2, 2, 2, 2, 2, 2, 3, 1, 2, 1, 2, 2, 1, 2, 2, 2, 2, 4, 2, 1, 4, 3, 2, 2, 2, 1, 4, 3, 2, 1, 3, 1, 2, 2, 2, 2, 2, 3, 1, 2, 3, 1, 2, 3, 2, 2, 2, 1, 3, 1, 2, 2, 3, 1, 3, 1, 2, 1, 2, 3, 1, 3, 1, 2, 2, 1, 3, 1, 5, 2, 2, 2, 3, 2, 3, 1, 2, 2, 3, 2, 3, 2, 2, 2, 1, 3, 3, 3, 2, 2, 2, 2, 2, 2, 4, 2, 1, 2, 1, 3, 1, 2, 2, 2, 2, 3, 4, 2, 2, 2, 3, 2, 1, 2, 2, 3, 3, 2, 3, 2, 2, 3, 2, 1, 3, 2, 1, 3, 1, 3])"
      ]
     },
     "execution_count": 300,
     "metadata": {},
     "output_type": "execute_result"
    }
   ],
   "source": [
    "kk = 0\n",
    "for nodee, vall in dict(G_giant_2.degree).items():\n",
    "    if vall == 1:\n"
   ]
  },
  {
   "cell_type": "code",
   "execution_count": 938,
   "id": "following-triple",
   "metadata": {},
   "outputs": [
    {
     "data": {
      "image/png": "[encoded data removed]",
      "text/plain": [
       "<Figure size 720x576 with 1 Axes>"
      ]
     },
     "metadata": {},
     "output_type": "display_data"
    },
    {
     "data": {
      "text/plain": [
       "0.0"
      ]
     },
     "execution_count": 938,
     "metadata": {},
     "output_type": "execute_result"
    }
   ],
   "source": [
    "number = 0\n",
    "gr = nx.relabel_nodes(nx.path_graph(18), {i: number + i for i in range(18)})\n",
    "number += 18\n",
    "kk = 0\n",
    "nodess = list(gr.nodes)\n",
    "for kk, node in enumerate(nodess):\n",
    "    if kk < 12:\n",
    "        gr.add_nodes_from(list(range(number, number + 3)))\n",
    "        gr.add_edge(node, number)\n",
    "        gr.add_edge(node, number + 1)\n",
    "        gr.add_edge(node, number + 2)\n",
    "        number += 3\n",
    "    elif kk < 14:\n",
    "        gr.add_nodes_from(list(range(number, number + 2)))\n",
    "        gr.add_edge(node, number)\n",
    "        gr.add_edge(node, number + 1)\n",
    "        number += 2\n",
    "    elif kk < 16:\n",
    "        gr.add_nodes_from(list(range(number, number + 1)))\n",
    "        gr.add_edge(node, number)\n",
    "        number += 1\n",
    "# Gr_added = nx.compose(Gr_added, gr)\n",
    "plt.figure(figsize=(10, 8))\n",
    "nx.draw(subg, \n",
    "        width=0.5,\n",
    "        node_size=60)\n",
    "plt.show()\n",
    "nx.average_clustering(gr)"
   ]
  },
  {
   "cell_type": "code",
   "execution_count": 470,
   "id": "large-strengthening",
   "metadata": {},
   "outputs": [
    {
     "data": {
      "text/plain": [
       "0.0"
      ]
     },
     "execution_count": 470,
     "metadata": {},
     "output_type": "execute_result"
    },
    {
     "data": {
      "image/png": "[encoded data removed]",
      "text/plain": [
       "<Figure size 432x288 with 1 Axes>"
      ]
     },
     "metadata": {},
     "output_type": "display_data"
    }
   ],
   "source": [
    "number = 0\n",
    "gr = nx.relabel_nodes(ring_lattice(16, 2), {i: number + i for i in range(16)})\n",
    "number += 16\n",
    "nds = list(gr.nodes)\n",
    "for node in nds:\n",
    "    gr.add_nodes_from([number])\n",
    "    gr.add_edge(node, number)\n",
    "#     gr.add_edge(node, number + 1)\n",
    "#     if tt < 7:\n",
    "#         gr.add_edge(number, number + 1)\n",
    "#         tt += 1\n",
    "#     if tt >= 7 and tt < 9:\n",
    "        \n",
    "    number += 1\n",
    "# Gr_added = nx.compose(Gr_added, gr)\n",
    "nx.draw(gr)\n",
    "nx.average_clustering(gr)"
   ]
  },
  {
   "cell_type": "code",
   "execution_count": 441,
   "id": "secondary-extra",
   "metadata": {},
   "outputs": [
    {
     "data": {
      "text/plain": [
       "0.013336875664187035"
      ]
     },
     "execution_count": 441,
     "metadata": {},
     "output_type": "execute_result"
    }
   ],
   "source": [
    "nx.average_clustering(Gr_added)"
   ]
  },
  {
   "cell_type": "code",
   "execution_count": 437,
   "id": "unavailable-wisdom",
   "metadata": {},
   "outputs": [],
   "source": [
    "# G_add_4 = ring_lattice(53, 2)\n",
    "# number = 100\n",
    "# nds = list(G_add_4.nodes)\n",
    "# for node in nds:\n",
    "#     G_add_4.add_nodes_from(list(range(number, number + 2)))\n",
    "#     G_add_4.add_edge(node, number)\n",
    "#     G_add_4.add_edge(node, number + 1)\n",
    "#     number += 2"
   ]
  },
  {
   "cell_type": "code",
   "execution_count": 440,
   "id": "legitimate-antibody",
   "metadata": {},
   "outputs": [
    {
     "data": {
      "text/plain": [
       "{'number_nodes': 1882,\n",
       " 'radius': [15, 2],\n",
       " 'diameter': [28, 4],\n",
       " 'average_clustering': [0.005066798238955518, 0.001],\n",
       " 'average_path_length': [11.748410823170731, 2],\n",
       " 'number_cc': [168, 32],\n",
       " 'degree_cdf': [[0,\n",
       "   1,\n",
       "   2,\n",
       "   3,\n",
       "   4,\n",
       "   5,\n",
       "   6,\n",
       "   7,\n",
       "   8,\n",
       "   9,\n",
       "   10,\n",
       "   11,\n",
       "   12,\n",
       "   13,\n",
       "   14,\n",
       "   15,\n",
       "   16,\n",
       "   17,\n",
       "   19,\n",
       "   21,\n",
       "   24,\n",
       "   46],\n",
       "  [0.0,\n",
       "   0.6902231668437833,\n",
       "   0.8517534537725824,\n",
       "   0.9086078639744952,\n",
       "   0.9378320935175345,\n",
       "   0.9516471838469713,\n",
       "   0.9654622741764081,\n",
       "   0.9723698193411264,\n",
       "   0.9776833156216791,\n",
       "   0.9808714133900106,\n",
       "   0.9845908607863975,\n",
       "   0.9888416578108395,\n",
       "   0.9893730074388948,\n",
       "   0.9925611052072264,\n",
       "   0.9936238044633369,\n",
       "   0.9952178533475027,\n",
       "   0.9957492029755579,\n",
       "   0.9968119022316685,\n",
       "   0.997874601487779,\n",
       "   0.9989373007438895,\n",
       "   0.9994686503719448,\n",
       "   1.0]]}"
      ]
     },
     "execution_count": 440,
     "metadata": {},
     "output_type": "execute_result"
    }
   ],
   "source": [
    "d"
   ]
  },
  {
   "cell_type": "code",
   "execution_count": null,
   "id": "certified-council",
   "metadata": {},
   "outputs": [],
   "source": []
  },
  {
   "cell_type": "code",
   "execution_count": 1187,
   "id": "recorded-philosophy",
   "metadata": {},
   "outputs": [],
   "source": [
    "with open('output_great6.txt', 'w') as f_ou:\n",
    "    for edge in Gr_added.edges:\n",
    "        f_ou.write(' '.join(map(str, edge)) + '\\n')"
   ]
  }
 ],
 "metadata": {
  "kernelspec": {
   "display_name": "Python 3",
   "language": "python",
   "name": "python3"
  },
  "language_info": {
   "codemirror_mode": {
    "name": "ipython",
    "version": 3
   },
   "file_extension": ".py",
   "mimetype": "text/x-python",
   "name": "python",
   "nbconvert_exporter": "python",
   "pygments_lexer": "ipython3",
   "version": "3.7.9"
  }
 },
 "nbformat": 4,
 "nbformat_minor": 5
}
